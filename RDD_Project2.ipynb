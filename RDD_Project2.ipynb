{
  "nbformat": 4,
  "nbformat_minor": 0,
  "metadata": {
    "colab": {
      "provenance": []
    },
    "kernelspec": {
      "name": "python3",
      "display_name": "Python 3"
    },
    "language_info": {
      "name": "python"
    }
  },
  "cells": [
    {
      "cell_type": "code",
      "execution_count": 33,
      "metadata": {
        "id": "oyXSzkY4aONq"
      },
      "outputs": [],
      "source": [
        "from pyspark.sql import SparkSession\n",
        "from pyspark.sql.functions import col, avg, max as spark_max, min as spark_min, desc\n"
      ]
    },
    {
      "cell_type": "markdown",
      "source": [
        "1. Read data into RDD"
      ],
      "metadata": {
        "id": "IsHgNvbPaoSF"
      }
    },
    {
      "cell_type": "code",
      "source": [
        "spark = SparkSession.builder.appName(\"HousePriceAnalysis\").getOrCreate()\n",
        "\n",
        "df = spark.read.csv(\"Housing.csv\", header=True, inferSchema=True)"
      ],
      "metadata": {
        "id": "a1DbveaZafhJ"
      },
      "execution_count": 34,
      "outputs": []
    },
    {
      "cell_type": "markdown",
      "source": [
        "2.Average house price"
      ],
      "metadata": {
        "id": "GVS0LBrWe_yk"
      }
    },
    {
      "cell_type": "code",
      "source": [
        "avg_price = df.select(avg(\"price\").alias(\"average_price\"))\n",
        "avg_price.show()"
      ],
      "metadata": {
        "colab": {
          "base_uri": "https://localhost:8080/"
        },
        "id": "eruKQHmga0nx",
        "outputId": "aade6b02-c0b1-487f-f935-653b30929883"
      },
      "execution_count": 35,
      "outputs": [
        {
          "output_type": "stream",
          "name": "stdout",
          "text": [
            "+-----------------+\n",
            "|    average_price|\n",
            "+-----------------+\n",
            "|4766729.247706422|\n",
            "+-----------------+\n",
            "\n"
          ]
        }
      ]
    },
    {
      "cell_type": "markdown",
      "source": [
        "3. Maximum and minimum area"
      ],
      "metadata": {
        "id": "9bVySeAvfHGw"
      }
    },
    {
      "cell_type": "code",
      "source": [
        "area_stats = df.select(\n",
        "    spark_max(col(\"area\")).alias(\"max_area\"),\n",
        "    spark_min(col(\"area\")).alias(\"min_area\")\n",
        ")\n",
        "\n",
        "area_stats.show()\n"
      ],
      "metadata": {
        "colab": {
          "base_uri": "https://localhost:8080/"
        },
        "id": "q4ki00ILa4BZ",
        "outputId": "2ed2e41f-5df8-4a5a-c3a5-ad8725c0ff8d"
      },
      "execution_count": 38,
      "outputs": [
        {
          "output_type": "stream",
          "name": "stdout",
          "text": [
            "+--------+--------+\n",
            "|max_area|min_area|\n",
            "+--------+--------+\n",
            "|   16200|    1650|\n",
            "+--------+--------+\n",
            "\n"
          ]
        }
      ]
    },
    {
      "cell_type": "markdown",
      "source": [
        "4.Number of houses with air conditioning\n"
      ],
      "metadata": {
        "id": "r_9Gyg1JgGMv"
      }
    },
    {
      "cell_type": "code",
      "source": [
        "air_cond_count = df.filter(col(\"airconditioning\") == \"yes\").count()\n",
        "print(\"Number of houses with air conditioning:\", air_cond_count)"
      ],
      "metadata": {
        "colab": {
          "base_uri": "https://localhost:8080/"
        },
        "id": "sOJlH2iggINQ",
        "outputId": "858b000f-9a65-4909-b70e-84c2cc93e84b"
      },
      "execution_count": 39,
      "outputs": [
        {
          "output_type": "stream",
          "name": "stdout",
          "text": [
            "Number of houses with air conditioning: 172\n"
          ]
        }
      ]
    },
    {
      "cell_type": "markdown",
      "source": [
        " 5.Average price by furnishing status\n"
      ],
      "metadata": {
        "id": "sX0bQU3xgMG1"
      }
    },
    {
      "cell_type": "code",
      "source": [
        "avg_price_furnish = (\n",
        "    df.groupBy(\"furnishingstatus\")\n",
        "      .agg(avg(\"price\").alias(\"average_price\"))\n",
        "      .orderBy(desc(\"average_price\"))\n",
        ")\n",
        "avg_price_furnish.show()"
      ],
      "metadata": {
        "colab": {
          "base_uri": "https://localhost:8080/"
        },
        "id": "1GsFNO1lgJ2s",
        "outputId": "657c7836-282f-4fd2-e31f-19c540c9b764"
      },
      "execution_count": 40,
      "outputs": [
        {
          "output_type": "stream",
          "name": "stdout",
          "text": [
            "+----------------+------------------+\n",
            "|furnishingstatus|     average_price|\n",
            "+----------------+------------------+\n",
            "|       furnished|         5495696.0|\n",
            "|  semi-furnished|  4907524.22907489|\n",
            "|     unfurnished|4013831.4606741574|\n",
            "+----------------+------------------+\n",
            "\n"
          ]
        }
      ]
    },
    {
      "cell_type": "markdown",
      "source": [
        "6.Houses with more than 2 parking spots"
      ],
      "metadata": {
        "id": "9vq6K4a9gQ8n"
      }
    },
    {
      "cell_type": "code",
      "source": [
        "parking_count = df.filter(col(\"parking\") > 2).count()\n",
        "print(\"Number of houses with more than 2 parking spots:\", parking_count)"
      ],
      "metadata": {
        "colab": {
          "base_uri": "https://localhost:8080/"
        },
        "id": "mAG8sh_GgOdd",
        "outputId": "77dde0c9-21cf-487f-a602-b30c972ba3ea"
      },
      "execution_count": 41,
      "outputs": [
        {
          "output_type": "stream",
          "name": "stdout",
          "text": [
            "Number of houses with more than 2 parking spots: 12\n"
          ]
        }
      ]
    },
    {
      "cell_type": "markdown",
      "source": [
        "7.Most common number of bedrooms\n"
      ],
      "metadata": {
        "id": "c0dlDtpLgVUU"
      }
    },
    {
      "cell_type": "code",
      "source": [
        "common_bedroom = (\n",
        "    df.groupBy(\"bedrooms\")\n",
        "      .count()\n",
        "      .orderBy(desc(\"count\"))\n",
        "      .first()\n",
        ")\n",
        "print(\"Most common number of bedrooms:\", common_bedroom)"
      ],
      "metadata": {
        "colab": {
          "base_uri": "https://localhost:8080/"
        },
        "id": "sVti10UGgTEg",
        "outputId": "779f080b-1fef-4a8c-b33b-4a26b6e983ab"
      },
      "execution_count": 42,
      "outputs": [
        {
          "output_type": "stream",
          "name": "stdout",
          "text": [
            "Most common number of bedrooms: Row(bedrooms=3, count=300)\n"
          ]
        }
      ]
    },
    {
      "cell_type": "code",
      "source": [],
      "metadata": {
        "id": "QNegZt26gXgy"
      },
      "execution_count": null,
      "outputs": []
    }
  ]
}